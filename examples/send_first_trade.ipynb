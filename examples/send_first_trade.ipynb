{
  "cells": [
    {
      "cell_type": "markdown",
      "metadata": {},
      "source": [
        "# Envoyer un premier ordre"
      ]
    },
    {
      "cell_type": "code",
      "execution_count": null,
      "metadata": {},
      "outputs": [],
      "source": [
        "from xau.execution import Broker, MT5Client\n",
        "from xau.signals import LONG\n",
        "\n",
        "client = MT5Client()\n",
        "client.connect(login=123456, password=\"demo\", server=\"MetaQuotes-Demo\")  # pragma: allowlist secret\n",
        "\n",
        "broker = Broker(client)\n",
        "broker.send_order(LONG, price=1900.0)\n"
      ]
    }
  ],
  "metadata": {
    "kernelspec": {
      "display_name": "Python 3",
      "language": "python",
      "name": "python3"
    },
    "language_info": {
      "name": "python",
      "version": "3.11"
    }
  },
  "nbformat": 4,
  "nbformat_minor": 5
}
